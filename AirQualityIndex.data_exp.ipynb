{
 "cells": [
  {
   "cell_type": "markdown",
   "metadata": {},
   "source": [
    "# Air quality index data exploration\n",
    "\n",
    "City of Helsinki does hourly recording of the air quality within the city region. The measuement data is available as open data in https://hri.fi/data/fi/dataset/paakaupunkiseudun-ilmanlaatuindeksit\n",
    "\n",
    "## Air quality index definition\n",
    "\n",
    "(https://www.hsy.fi/fi/asiantuntijalle/ilmansuojelu/ilmanlaatutiedotus/Sivut/Ilmanlaatuindeksi.aspx)\n",
    "\n",
    "Tha main purpose of the index is to provide a simple verbal descirption with color coding that can be used when communicating the current air quality to the citizens. Air quality index is divided into five classes: from good to very bad. The air quality index classes describes what kind of health implications the corresponding class has. In addition the air quality index uses multiple international norms.\n",
    "\n",
    "The air quality index is calculated as a combination of multiple air pollution measurements. At the moment the index is calculated from the following concentration measurements:\n",
    "\n",
    "* sulfurdioxside (SO2)\n",
    "* nitrogendioxcide (NO2)\n",
    "* amount inhalable particles (PM10)\n",
    "* amount of micro-particles (PM2.5)\n",
    "* carbonmono-oxside (CO)\n",
    "* ozone (O3) \n",
    "\n",
    "The underlying table summarizes the verbal descriptions (with color coding) and numerical values of the air quality index with potential health and environment implications:\n",
    "\n",
    "| Air quality  | Index value | Potential health implications  | Other implications   |  \n",
    "|---|---|---|---|\n",
    "| <span style=\"color:purple\">Very bad</span>  | >150 |Possible for sensitive demographics  | Clear implications for vegetation and materials in the long run   | \n",
    "| <span style=\"color:red\">Bad</span>  | 101-150 |Possible for sensitive individuals  | Clear implications for vegetation and materials in the long run  |  \n",
    "| <span style=\"color:orange\">Tolerable</span> | 76-100 | Unlikely  | Clear implications for vegetation and materials in the long run  |\n",
    "| <span style=\"color:yellow\">Satisfactory</span> | 51-75 | Very unlikely  | Clear implications for vegetation and materials in the long run  |\n",
    "| <span style=\"color:green\">Good</span>  | < 50 |Not observed   | Mild implications for vegetation and materials in the long run  |\n",
    "\n",
    "\n",
    "\n",
    " "
   ]
  },
  {
   "cell_type": "code",
   "execution_count": 1,
   "metadata": {},
   "outputs": [],
   "source": [
    "import pandas as pd\n",
    "import numpy as np\n",
    "import seaborn as sns\n",
    "import matplotlib.pyplot as plt\n",
    "from pandas.plotting import autocorrelation_plot\n",
    "from scipy import stats\n",
    "\n",
    "%matplotlib inline"
   ]
  },
  {
   "cell_type": "code",
   "execution_count": 2,
   "metadata": {},
   "outputs": [
    {
     "data": {
      "text/html": [
       "<div>\n",
       "<style scoped>\n",
       "    .dataframe tbody tr th:only-of-type {\n",
       "        vertical-align: middle;\n",
       "    }\n",
       "\n",
       "    .dataframe tbody tr th {\n",
       "        vertical-align: top;\n",
       "    }\n",
       "\n",
       "    .dataframe thead th {\n",
       "        text-align: right;\n",
       "    }\n",
       "</style>\n",
       "<table border=\"1\" class=\"dataframe\">\n",
       "  <thead>\n",
       "    <tr style=\"text-align: right;\">\n",
       "      <th></th>\n",
       "      <th>Timestamp</th>\n",
       "      <th>Mannerheimintie</th>\n",
       "      <th>Mäkelänkatu</th>\n",
       "      <th>Kallio</th>\n",
       "      <th>Vartiokylä</th>\n",
       "      <th>Leppävaara</th>\n",
       "      <th>Tikkurila</th>\n",
       "      <th>Luukki</th>\n",
       "      <th>Lohja</th>\n",
       "      <th>Kirkkonummi</th>\n",
       "      <th>Länsisatama</th>\n",
       "      <th>Pirkkola</th>\n",
       "      <th>Friisilä</th>\n",
       "      <th>Talvikkitie</th>\n",
       "    </tr>\n",
       "  </thead>\n",
       "  <tbody>\n",
       "    <tr>\n",
       "      <th>0</th>\n",
       "      <td>01/01/2019 01:00</td>\n",
       "      <td>53</td>\n",
       "      <td>52</td>\n",
       "      <td>54</td>\n",
       "      <td>55</td>\n",
       "      <td>51</td>\n",
       "      <td>47</td>\n",
       "      <td>56</td>\n",
       "      <td>9</td>\n",
       "      <td>13</td>\n",
       "      <td>0</td>\n",
       "      <td>10</td>\n",
       "      <td>0</td>\n",
       "      <td>NoData</td>\n",
       "    </tr>\n",
       "    <tr>\n",
       "      <th>1</th>\n",
       "      <td>01/01/2019 02:00</td>\n",
       "      <td>30</td>\n",
       "      <td>53</td>\n",
       "      <td>56</td>\n",
       "      <td>55</td>\n",
       "      <td>12</td>\n",
       "      <td>17</td>\n",
       "      <td>56</td>\n",
       "      <td>6</td>\n",
       "      <td>13</td>\n",
       "      <td>0</td>\n",
       "      <td>22</td>\n",
       "      <td>0</td>\n",
       "      <td>NoData</td>\n",
       "    </tr>\n",
       "    <tr>\n",
       "      <th>2</th>\n",
       "      <td>01/01/2019 03:00</td>\n",
       "      <td>22</td>\n",
       "      <td>53</td>\n",
       "      <td>56</td>\n",
       "      <td>56</td>\n",
       "      <td>5</td>\n",
       "      <td>7</td>\n",
       "      <td>56</td>\n",
       "      <td>6</td>\n",
       "      <td>8</td>\n",
       "      <td>0</td>\n",
       "      <td>15</td>\n",
       "      <td>0</td>\n",
       "      <td>NoData</td>\n",
       "    </tr>\n",
       "    <tr>\n",
       "      <th>3</th>\n",
       "      <td>01/01/2019 04:00</td>\n",
       "      <td>22</td>\n",
       "      <td>53</td>\n",
       "      <td>55</td>\n",
       "      <td>55</td>\n",
       "      <td>4</td>\n",
       "      <td>12</td>\n",
       "      <td>56</td>\n",
       "      <td>6</td>\n",
       "      <td>6</td>\n",
       "      <td>0</td>\n",
       "      <td>5</td>\n",
       "      <td>0</td>\n",
       "      <td>NoData</td>\n",
       "    </tr>\n",
       "    <tr>\n",
       "      <th>4</th>\n",
       "      <td>01/01/2019 05:00</td>\n",
       "      <td>12</td>\n",
       "      <td>51</td>\n",
       "      <td>54</td>\n",
       "      <td>54</td>\n",
       "      <td>9</td>\n",
       "      <td>8</td>\n",
       "      <td>55</td>\n",
       "      <td>6</td>\n",
       "      <td>2</td>\n",
       "      <td>0</td>\n",
       "      <td>0</td>\n",
       "      <td>0</td>\n",
       "      <td>NoData</td>\n",
       "    </tr>\n",
       "  </tbody>\n",
       "</table>\n",
       "</div>"
      ],
      "text/plain": [
       "          Timestamp  Mannerheimintie  Mäkelänkatu Kallio Vartiokylä  \\\n",
       "0  01/01/2019 01:00               53           52     54         55   \n",
       "1  01/01/2019 02:00               30           53     56         55   \n",
       "2  01/01/2019 03:00               22           53     56         56   \n",
       "3  01/01/2019 04:00               22           53     55         55   \n",
       "4  01/01/2019 05:00               12           51     54         54   \n",
       "\n",
       "   Leppävaara  Tikkurila Luukki  Lohja Kirkkonummi Länsisatama Pirkkola  \\\n",
       "0          51         47     56      9          13           0       10   \n",
       "1          12         17     56      6          13           0       22   \n",
       "2           5          7     56      6           8           0       15   \n",
       "3           4         12     56      6           6           0        5   \n",
       "4           9          8     55      6           2           0        0   \n",
       "\n",
       "  Friisilä Talvikkitie  \n",
       "0        0      NoData  \n",
       "1        0      NoData  \n",
       "2        0      NoData  \n",
       "3        0      NoData  \n",
       "4        0      NoData  "
      ]
     },
     "execution_count": 2,
     "metadata": {},
     "output_type": "execute_result"
    }
   ],
   "source": [
    "# Read data files\n",
    "df_2014 = pd.read_csv(\"data/air-quality-index-2014.csv\", sep=\";\")\n",
    "df_2015 = pd.read_csv(\"data/air-quality-index-2015.csv\", sep=\";\")\n",
    "df_2016 = pd.read_csv(\"data/air-quality-index-2016.csv\", sep=\";\")\n",
    "df_2017 = pd.read_csv(\"data/air-quality-index-2017.csv\", sep=\";\")\n",
    "df_2018 = pd.read_csv(\"data/air-quality-index-2018.csv\", sep=\";\")\n",
    "df_2019 = pd.read_csv(\"data/air-quality-index-2019.csv\", sep=\";\")\n",
    "df_2019.head()"
   ]
  },
  {
   "cell_type": "markdown",
   "metadata": {},
   "source": [
    "Data contains air quality index from different measuring stations. Since we are only interested about the Helsinki city center we will only keep data from \"Mannerheimintie\" measuring station. Also measuring time needs to be edited so that it can be used as datetime index."
   ]
  },
  {
   "cell_type": "code",
   "execution_count": 3,
   "metadata": {},
   "outputs": [],
   "source": [
    "# clean up timestamps, extract only relevant columns & use timestamp as index\n",
    "# finally drop NAs\n",
    "def clean_dataframe(df):\n",
    "    timestamp_pat = '(?P<day>\\d{2})/(?P<month>\\d{2})/(?P<year>\\d{4}) +(?P<hour>\\d{2}):(?P<minute>\\d{2})'\n",
    "    df[\"Timestamp\"] = pd.to_datetime(df[\"Timestamp\"].str.extract(timestamp_pat, expand=True))\n",
    "    df = df.filter([\"Timestamp\", \"Mannerheimintie\"])\n",
    "    df = df.set_index(\"Timestamp\")\n",
    "    df.dropna(inplace=True)\n",
    "    \n",
    "    return df"
   ]
  },
  {
   "cell_type": "code",
   "execution_count": 4,
   "metadata": {},
   "outputs": [
    {
     "data": {
      "text/html": [
       "<div>\n",
       "<style scoped>\n",
       "    .dataframe tbody tr th:only-of-type {\n",
       "        vertical-align: middle;\n",
       "    }\n",
       "\n",
       "    .dataframe tbody tr th {\n",
       "        vertical-align: top;\n",
       "    }\n",
       "\n",
       "    .dataframe thead th {\n",
       "        text-align: right;\n",
       "    }\n",
       "</style>\n",
       "<table border=\"1\" class=\"dataframe\">\n",
       "  <thead>\n",
       "    <tr style=\"text-align: right;\">\n",
       "      <th></th>\n",
       "      <th>Mannerheimintie</th>\n",
       "    </tr>\n",
       "    <tr>\n",
       "      <th>Timestamp</th>\n",
       "      <th></th>\n",
       "    </tr>\n",
       "  </thead>\n",
       "  <tbody>\n",
       "    <tr>\n",
       "      <th>2019-05-31 20:00:00</th>\n",
       "      <td>31</td>\n",
       "    </tr>\n",
       "    <tr>\n",
       "      <th>2019-05-31 21:00:00</th>\n",
       "      <td>20</td>\n",
       "    </tr>\n",
       "    <tr>\n",
       "      <th>2019-05-31 22:00:00</th>\n",
       "      <td>19</td>\n",
       "    </tr>\n",
       "    <tr>\n",
       "      <th>2019-05-31 23:00:00</th>\n",
       "      <td>13</td>\n",
       "    </tr>\n",
       "    <tr>\n",
       "      <th>2019-06-01 00:00:00</th>\n",
       "      <td>19</td>\n",
       "    </tr>\n",
       "  </tbody>\n",
       "</table>\n",
       "</div>"
      ],
      "text/plain": [
       "                     Mannerheimintie\n",
       "Timestamp                           \n",
       "2019-05-31 20:00:00               31\n",
       "2019-05-31 21:00:00               20\n",
       "2019-05-31 22:00:00               19\n",
       "2019-05-31 23:00:00               13\n",
       "2019-06-01 00:00:00               19"
      ]
     },
     "execution_count": 4,
     "metadata": {},
     "output_type": "execute_result"
    }
   ],
   "source": [
    "df_2014 = clean_dataframe(df_2014)\n",
    "df_2015 = clean_dataframe(df_2015)\n",
    "df_2016 = clean_dataframe(df_2016)\n",
    "df_2017 = clean_dataframe(df_2017)\n",
    "df_2018 = clean_dataframe(df_2018)\n",
    "df_2019 = clean_dataframe(df_2019)\n",
    "df_2019.tail()"
   ]
  },
  {
   "cell_type": "markdown",
   "metadata": {},
   "source": [
    "After cleaning combine all years into a single data frame."
   ]
  },
  {
   "cell_type": "code",
   "execution_count": 5,
   "metadata": {},
   "outputs": [
    {
     "name": "stdout",
     "output_type": "stream",
     "text": [
      "                    Mannerheimintie\n",
      "Timestamp                          \n",
      "2014-01-01 01:00:00              78\n",
      "2014-01-01 02:00:00              68\n",
      "2014-01-01 03:00:00              60\n",
      "2014-01-01 04:00:00              48\n",
      "2014-01-01 05:00:00              51\n",
      "                    Mannerheimintie\n",
      "Timestamp                          \n",
      "2019-05-31 20:00:00              31\n",
      "2019-05-31 21:00:00              20\n",
      "2019-05-31 22:00:00              19\n",
      "2019-05-31 23:00:00              13\n",
      "2019-06-01 00:00:00              19\n"
     ]
    }
   ],
   "source": [
    "df = pd.concat([df_2014, df_2015, df_2016, df_2017, df_2018, df_2019])\n",
    "df.sort_index(inplace=True)\n",
    "print(df.head())\n",
    "print(df.tail())"
   ]
  },
  {
   "cell_type": "markdown",
   "metadata": {},
   "source": [
    "And for visualization change air quality index into numeric data."
   ]
  },
  {
   "cell_type": "code",
   "execution_count": 6,
   "metadata": {},
   "outputs": [
    {
     "name": "stdout",
     "output_type": "stream",
     "text": [
      "                     Mannerheimintie\n",
      "Timestamp                           \n",
      "2014-01-01 01:00:00             78.0\n",
      "2014-01-01 02:00:00             68.0\n",
      "2014-01-01 03:00:00             60.0\n",
      "2014-01-01 04:00:00             48.0\n",
      "2014-01-01 05:00:00             51.0\n",
      "                     Mannerheimintie\n",
      "Timestamp                           \n",
      "2019-05-31 20:00:00             31.0\n",
      "2019-05-31 21:00:00             20.0\n",
      "2019-05-31 22:00:00             19.0\n",
      "2019-05-31 23:00:00             13.0\n",
      "2019-06-01 00:00:00             19.0\n"
     ]
    },
    {
     "name": "stderr",
     "output_type": "stream",
     "text": [
      "/Users/aapo/anaconda3/lib/python3.7/site-packages/ipykernel_launcher.py:1: FutureWarning: convert_objects is deprecated.  To re-infer data dtypes for object columns, use DataFrame.infer_objects()\n",
      "For all other conversions use the data-type specific converters pd.to_datetime, pd.to_timedelta and pd.to_numeric.\n",
      "  \"\"\"Entry point for launching an IPython kernel.\n"
     ]
    }
   ],
   "source": [
    "df = df.convert_objects(convert_numeric=True)\n",
    "print(df.head())\n",
    "print(df.tail())"
   ]
  },
  {
   "cell_type": "markdown",
   "metadata": {},
   "source": [
    "Let's see some descriptive statistics for the data. "
   ]
  },
  {
   "cell_type": "code",
   "execution_count": 7,
   "metadata": {},
   "outputs": [
    {
     "data": {
      "text/html": [
       "<div>\n",
       "<style scoped>\n",
       "    .dataframe tbody tr th:only-of-type {\n",
       "        vertical-align: middle;\n",
       "    }\n",
       "\n",
       "    .dataframe tbody tr th {\n",
       "        vertical-align: top;\n",
       "    }\n",
       "\n",
       "    .dataframe thead th {\n",
       "        text-align: right;\n",
       "    }\n",
       "</style>\n",
       "<table border=\"1\" class=\"dataframe\">\n",
       "  <thead>\n",
       "    <tr style=\"text-align: right;\">\n",
       "      <th></th>\n",
       "      <th>Mannerheimintie</th>\n",
       "    </tr>\n",
       "  </thead>\n",
       "  <tbody>\n",
       "    <tr>\n",
       "      <th>count</th>\n",
       "      <td>47352.000000</td>\n",
       "    </tr>\n",
       "    <tr>\n",
       "      <th>mean</th>\n",
       "      <td>51.416836</td>\n",
       "    </tr>\n",
       "    <tr>\n",
       "      <th>std</th>\n",
       "      <td>17.757935</td>\n",
       "    </tr>\n",
       "    <tr>\n",
       "      <th>min</th>\n",
       "      <td>0.000000</td>\n",
       "    </tr>\n",
       "    <tr>\n",
       "      <th>25%</th>\n",
       "      <td>40.000000</td>\n",
       "    </tr>\n",
       "    <tr>\n",
       "      <th>50%</th>\n",
       "      <td>52.000000</td>\n",
       "    </tr>\n",
       "    <tr>\n",
       "      <th>75%</th>\n",
       "      <td>62.000000</td>\n",
       "    </tr>\n",
       "    <tr>\n",
       "      <th>max</th>\n",
       "      <td>565.000000</td>\n",
       "    </tr>\n",
       "  </tbody>\n",
       "</table>\n",
       "</div>"
      ],
      "text/plain": [
       "       Mannerheimintie\n",
       "count     47352.000000\n",
       "mean         51.416836\n",
       "std          17.757935\n",
       "min           0.000000\n",
       "25%          40.000000\n",
       "50%          52.000000\n",
       "75%          62.000000\n",
       "max         565.000000"
      ]
     },
     "execution_count": 7,
     "metadata": {},
     "output_type": "execute_result"
    }
   ],
   "source": [
    "df.describe()"
   ]
  },
  {
   "cell_type": "code",
   "execution_count": 8,
   "metadata": {},
   "outputs": [
    {
     "data": {
      "text/plain": [
       "<matplotlib.axes._subplots.AxesSubplot at 0x1a1ae18400>"
      ]
     },
     "execution_count": 8,
     "metadata": {},
     "output_type": "execute_result"
    },
    {
     "data": {
      "image/png": "[encoded data removed]",
      "text/plain": [
       "<Figure size 432x288 with 1 Axes>"
      ]
     },
     "metadata": {
      "needs_background": "light"
     },
     "output_type": "display_data"
    }
   ],
   "source": [
    "df.plot.hist(bins=30)"
   ]
  },
  {
   "cell_type": "code",
   "execution_count": 9,
   "metadata": {},
   "outputs": [
    {
     "name": "stdout",
     "output_type": "stream",
     "text": [
      "Skewness of the air quality index values: Mannerheimintie    0.990656\n",
      "dtype: float64\n",
      "Kurtosis of the air quality index values: Mannerheimintie    18.406763\n",
      "dtype: float64\n"
     ]
    }
   ],
   "source": [
    "print(\"Skewness of the air quality index values: {}\".format(df.skew()))\n",
    "print(\"Kurtosis of the air quality index values: {}\".format(df.kurtosis()))"
   ]
  },
  {
   "cell_type": "markdown",
   "metadata": {},
   "source": [
    "So the data has moderate positive skew and quite high kurtosis implying long tail. Let's see if we remove outliers."
   ]
  },
  {
   "cell_type": "code",
   "execution_count": 10,
   "metadata": {},
   "outputs": [
    {
     "data": {
      "text/plain": [
       "<matplotlib.axes._subplots.AxesSubplot at 0x10e076b00>"
      ]
     },
     "execution_count": 10,
     "metadata": {},
     "output_type": "execute_result"
    },
    {
     "data": {
      "image/png": "[encoded data removed]",
      "text/plain": [
       "<Figure size 432x288 with 1 Axes>"
      ]
     },
     "metadata": {
      "needs_background": "light"
     },
     "output_type": "display_data"
    }
   ],
   "source": [
    "# drop outliers\n",
    "df1 = df.copy()\n",
    "df1[\"z\"] = (df1.Mannerheimintie - df1.Mannerheimintie.mean())/df1.Mannerheimintie.std(ddof=0)\n",
    "df1 = df1.loc[df1['z'] < 3]\n",
    "df1[\"Mannerheimintie\"].plot.hist(bins=30)"
   ]
  },
  {
   "cell_type": "code",
   "execution_count": 11,
   "metadata": {},
   "outputs": [
    {
     "data": {
      "text/html": [
       "<div>\n",
       "<style scoped>\n",
       "    .dataframe tbody tr th:only-of-type {\n",
       "        vertical-align: middle;\n",
       "    }\n",
       "\n",
       "    .dataframe tbody tr th {\n",
       "        vertical-align: top;\n",
       "    }\n",
       "\n",
       "    .dataframe thead th {\n",
       "        text-align: right;\n",
       "    }\n",
       "</style>\n",
       "<table border=\"1\" class=\"dataframe\">\n",
       "  <thead>\n",
       "    <tr style=\"text-align: right;\">\n",
       "      <th></th>\n",
       "      <th>Mannerheimintie</th>\n",
       "    </tr>\n",
       "  </thead>\n",
       "  <tbody>\n",
       "    <tr>\n",
       "      <th>count</th>\n",
       "      <td>47157.000000</td>\n",
       "    </tr>\n",
       "    <tr>\n",
       "      <th>mean</th>\n",
       "      <td>51.092054</td>\n",
       "    </tr>\n",
       "    <tr>\n",
       "      <th>std</th>\n",
       "      <td>16.816586</td>\n",
       "    </tr>\n",
       "    <tr>\n",
       "      <th>min</th>\n",
       "      <td>0.000000</td>\n",
       "    </tr>\n",
       "    <tr>\n",
       "      <th>25%</th>\n",
       "      <td>40.000000</td>\n",
       "    </tr>\n",
       "    <tr>\n",
       "      <th>50%</th>\n",
       "      <td>52.000000</td>\n",
       "    </tr>\n",
       "    <tr>\n",
       "      <th>75%</th>\n",
       "      <td>61.000000</td>\n",
       "    </tr>\n",
       "    <tr>\n",
       "      <th>max</th>\n",
       "      <td>104.000000</td>\n",
       "    </tr>\n",
       "  </tbody>\n",
       "</table>\n",
       "</div>"
      ],
      "text/plain": [
       "       Mannerheimintie\n",
       "count     47157.000000\n",
       "mean         51.092054\n",
       "std          16.816586\n",
       "min           0.000000\n",
       "25%          40.000000\n",
       "50%          52.000000\n",
       "75%          61.000000\n",
       "max         104.000000"
      ]
     },
     "execution_count": 11,
     "metadata": {},
     "output_type": "execute_result"
    }
   ],
   "source": [
    "df1.drop(\"z\", axis=1, inplace=True)\n",
    "df1.describe()"
   ]
  },
  {
   "cell_type": "code",
   "execution_count": 12,
   "metadata": {},
   "outputs": [
    {
     "name": "stdout",
     "output_type": "stream",
     "text": [
      "Skewness of the air quality index values after removing outliers: Mannerheimintie   -0.030316\n",
      "dtype: float64\n",
      "Kurtosis of the air quality index values after removing outliers: Mannerheimintie   -0.111813\n",
      "dtype: float64\n"
     ]
    }
   ],
   "source": [
    "print(\"Skewness of the air quality index values after removing outliers: {}\".format(df1.skew()))\n",
    "print(\"Kurtosis of the air quality index values after removing outliers: {}\".format(df1.kurtosis()))"
   ]
  },
  {
   "cell_type": "markdown",
   "metadata": {},
   "source": [
    "So after removinh outliers the data is quite close to be normally distributed. This was expected since it makes sens that the air quality index is \"average\" or close to average on most days."
   ]
  },
  {
   "cell_type": "markdown",
   "metadata": {},
   "source": [
    "Let's plot the time series to see if there is a trend."
   ]
  },
  {
   "cell_type": "code",
   "execution_count": 13,
   "metadata": {},
   "outputs": [
    {
     "data": {
      "image/png": "[encoded data removed]",
      "text/plain": [
       "<Figure size 1224x576 with 1 Axes>"
      ]
     },
     "metadata": {
      "needs_background": "light"
     },
     "output_type": "display_data"
    }
   ],
   "source": [
    "plt.figure(figsize=(17,8))\n",
    "plt.plot(df[\"Mannerheimintie\"])\n",
    "plt.title(\"Helsinki city center air quality index 2014-06/2019\")\n",
    "plt.xlabel(\"Date\")\n",
    "plt.ylabel(\"Air quality index\")\n",
    "plt.grid(False)\n",
    "plt.show()"
   ]
  },
  {
   "cell_type": "markdown",
   "metadata": {},
   "source": [
    "Well, there is so many data point that it is impossible to see any repeating trend. To get better understanding of the data lets resample the time series monthly and visualise."
   ]
  },
  {
   "cell_type": "code",
   "execution_count": 14,
   "metadata": {},
   "outputs": [
    {
     "data": {
      "image/png": "[encoded data removed]",
      "text/plain": [
       "<Figure size 1224x576 with 1 Axes>"
      ]
     },
     "metadata": {
      "needs_background": "light"
     },
     "output_type": "display_data"
    }
   ],
   "source": [
    "# resample for Monthly\n",
    "df_month = df.resample(\"M\").mean()\n",
    "plt.figure(figsize=(17,8))\n",
    "plt.plot(df_month[\"Mannerheimintie\"])\n",
    "plt.title(\"Helsinki city center monthly mean air quality index 2014-06/2019\")\n",
    "plt.xlabel(\"Month\")\n",
    "plt.ylabel(\"Air quality index\")\n",
    "plt.grid(False)\n",
    "plt.show()"
   ]
  },
  {
   "cell_type": "markdown",
   "metadata": {},
   "source": [
    "From this it sort of looks like that the overall air quality was improving from 2014->2017 but then got worse during 1st half of 2018."
   ]
  },
  {
   "cell_type": "markdown",
   "metadata": {},
   "source": [
    "Finally lets see how the time series data is correlated."
   ]
  },
  {
   "cell_type": "code",
   "execution_count": 15,
   "metadata": {},
   "outputs": [
    {
     "data": {
      "text/plain": [
       "<matplotlib.axes._subplots.AxesSubplot at 0x1a1b921be0>"
      ]
     },
     "execution_count": 15,
     "metadata": {},
     "output_type": "execute_result"
    },
    {
     "data": {
      "image/png": "[encoded data removed]",
      "text/plain": [
       "<Figure size 1296x576 with 1 Axes>"
      ]
     },
     "metadata": {
      "needs_background": "light"
     },
     "output_type": "display_data"
    }
   ],
   "source": [
    "plt.figure(figsize=(18,8))\n",
    "autocorrelation_plot(df[\"Mannerheimintie\"].iloc[:40])"
   ]
  },
  {
   "cell_type": "markdown",
   "metadata": {},
   "source": [
    "So based on the autocorrelation plot the given data point is correlated with 2-3 previous measurements and random after that. We can use this information in modelling.\n",
    "\n",
    "Next let's incorporate the weather information and see if it affects the air quality index"
   ]
  },
  {
   "cell_type": "code",
   "execution_count": 16,
   "metadata": {},
   "outputs": [
    {
     "data": {
      "text/html": [
       "<div>\n",
       "<style scoped>\n",
       "    .dataframe tbody tr th:only-of-type {\n",
       "        vertical-align: middle;\n",
       "    }\n",
       "\n",
       "    .dataframe tbody tr th {\n",
       "        vertical-align: top;\n",
       "    }\n",
       "\n",
       "    .dataframe thead th {\n",
       "        text-align: right;\n",
       "    }\n",
       "</style>\n",
       "<table border=\"1\" class=\"dataframe\">\n",
       "  <thead>\n",
       "    <tr style=\"text-align: right;\">\n",
       "      <th></th>\n",
       "      <th>Vuosi</th>\n",
       "      <th>Kk</th>\n",
       "      <th>Pv</th>\n",
       "      <th>Klo</th>\n",
       "      <th>Aikavyöhyke</th>\n",
       "      <th>Ilmanpaine (msl) (hPa)</th>\n",
       "      <th>Suhteellinen kosteus (%)</th>\n",
       "      <th>Sateen intensiteetti (mm/h)</th>\n",
       "      <th>Ilman lämpötila (degC)</th>\n",
       "      <th>Tuulen suunta (deg)</th>\n",
       "      <th>Tuulen nopeus (m/s)</th>\n",
       "    </tr>\n",
       "  </thead>\n",
       "  <tbody>\n",
       "    <tr>\n",
       "      <th>0</th>\n",
       "      <td>2019</td>\n",
       "      <td>1</td>\n",
       "      <td>1</td>\n",
       "      <td>00:00</td>\n",
       "      <td>UTC</td>\n",
       "      <td>1000.9</td>\n",
       "      <td>94.0</td>\n",
       "      <td>0.5</td>\n",
       "      <td>1.4</td>\n",
       "      <td>207.0</td>\n",
       "      <td>8.4</td>\n",
       "    </tr>\n",
       "    <tr>\n",
       "      <th>1</th>\n",
       "      <td>2019</td>\n",
       "      <td>1</td>\n",
       "      <td>1</td>\n",
       "      <td>01:00</td>\n",
       "      <td>UTC</td>\n",
       "      <td>998.7</td>\n",
       "      <td>95.0</td>\n",
       "      <td>0.2</td>\n",
       "      <td>2.0</td>\n",
       "      <td>210.0</td>\n",
       "      <td>8.0</td>\n",
       "    </tr>\n",
       "    <tr>\n",
       "      <th>2</th>\n",
       "      <td>2019</td>\n",
       "      <td>1</td>\n",
       "      <td>1</td>\n",
       "      <td>02:00</td>\n",
       "      <td>UTC</td>\n",
       "      <td>996.5</td>\n",
       "      <td>96.0</td>\n",
       "      <td>0.0</td>\n",
       "      <td>2.5</td>\n",
       "      <td>212.0</td>\n",
       "      <td>8.3</td>\n",
       "    </tr>\n",
       "    <tr>\n",
       "      <th>3</th>\n",
       "      <td>2019</td>\n",
       "      <td>1</td>\n",
       "      <td>1</td>\n",
       "      <td>03:00</td>\n",
       "      <td>UTC</td>\n",
       "      <td>994.2</td>\n",
       "      <td>96.0</td>\n",
       "      <td>0.0</td>\n",
       "      <td>2.8</td>\n",
       "      <td>209.0</td>\n",
       "      <td>8.0</td>\n",
       "    </tr>\n",
       "    <tr>\n",
       "      <th>4</th>\n",
       "      <td>2019</td>\n",
       "      <td>1</td>\n",
       "      <td>1</td>\n",
       "      <td>04:00</td>\n",
       "      <td>UTC</td>\n",
       "      <td>991.9</td>\n",
       "      <td>97.0</td>\n",
       "      <td>0.0</td>\n",
       "      <td>3.0</td>\n",
       "      <td>206.0</td>\n",
       "      <td>7.6</td>\n",
       "    </tr>\n",
       "  </tbody>\n",
       "</table>\n",
       "</div>"
      ],
      "text/plain": [
       "   Vuosi  Kk  Pv    Klo Aikavyöhyke  Ilmanpaine (msl) (hPa)  \\\n",
       "0   2019   1   1  00:00         UTC                  1000.9   \n",
       "1   2019   1   1  01:00         UTC                   998.7   \n",
       "2   2019   1   1  02:00         UTC                   996.5   \n",
       "3   2019   1   1  03:00         UTC                   994.2   \n",
       "4   2019   1   1  04:00         UTC                   991.9   \n",
       "\n",
       "   Suhteellinen kosteus (%)  Sateen intensiteetti (mm/h)  \\\n",
       "0                      94.0                          0.5   \n",
       "1                      95.0                          0.2   \n",
       "2                      96.0                          0.0   \n",
       "3                      96.0                          0.0   \n",
       "4                      97.0                          0.0   \n",
       "\n",
       "   Ilman lämpötila (degC)  Tuulen suunta (deg)  Tuulen nopeus (m/s)  \n",
       "0                     1.4                207.0                  8.4  \n",
       "1                     2.0                210.0                  8.0  \n",
       "2                     2.5                212.0                  8.3  \n",
       "3                     2.8                209.0                  8.0  \n",
       "4                     3.0                206.0                  7.6  "
      ]
     },
     "execution_count": 16,
     "metadata": {},
     "output_type": "execute_result"
    }
   ],
   "source": [
    "weather_2014 = pd.read_csv(\"data/weather-2014.csv\", sep=\",\")\n",
    "weather_2015 = pd.read_csv(\"data/weather-2015.csv\", sep=\",\")\n",
    "weather_2016 = pd.read_csv(\"data/weather-2016.csv\", sep=\",\")\n",
    "weather_2017 = pd.read_csv(\"data/weather-2017.csv\", sep=\",\")\n",
    "weather_2018 = pd.read_csv(\"data/weather-2018.csv\", sep=\",\")\n",
    "weather_2019 = pd.read_csv(\"data/weather-2019.csv\", sep=\",\")\n",
    "weather_2019.head()"
   ]
  },
  {
   "cell_type": "code",
   "execution_count": 17,
   "metadata": {},
   "outputs": [],
   "source": [
    "# clean up weather data\n",
    "def clean_weather_data(df):\n",
    "    time_data = df.Klo.str.split(\":\", n = 1, expand = True)\n",
    "    df[\"Tunti\"] = time_data[0]\n",
    "    df[\"Minuutti\"] = time_data[1]\n",
    "    df[\"Timestamp\"] = pd.to_datetime(dict(year=df.Vuosi, month=df.Kk, \n",
    "                                          day=df.Pv, hour=df.Tunti,\n",
    "                                          minute=df.Minuutti))\n",
    "    df.drop(\"Vuosi\", axis=1, inplace=True)\n",
    "    df.drop(\"Kk\", axis=1, inplace=True)\n",
    "    df.drop(\"Pv\", axis=1, inplace=True)\n",
    "    df.drop(\"Klo\", axis=1, inplace=True)\n",
    "    df.drop(\"Aikavyöhyke\", axis=1, inplace=True)\n",
    "    df.drop(\"Tunti\", axis=1, inplace=True)\n",
    "    df.drop(\"Minuutti\", axis=1, inplace=True)\n",
    "\n",
    "    cols = [\"Ilmanpaine (msl) (hPa)\", \"Suhteellinen kosteus (%)\", \"Sateen intensiteetti (mm/h)\",\n",
    "            \"Ilman lämpötila (degC)\", \"Tuulen suunta (deg)\", \"Tuulen nopeus (m/s)\"]\n",
    "    df[cols] = df[cols].apply(pd.to_numeric, errors='coerce', axis=1) \n",
    "    \n",
    "    df = df.rename(columns = { \n",
    "                \"Ilmanpaine (msl) (hPa)\": \"Air pressure (msl) (hPa)\", \n",
    "                \"Suhteellinen kosteus (%)\": \"Relative humidity (%)\",\n",
    "                \"Sateen intensiteetti (mm/h)\": \"Rain intensity (mm/h)\",\n",
    "                \"Ilman lämpötila (degC)\": \"Air temperature (degC)\",\n",
    "                \"Tuulen suunta (deg)\": \"Wind direction (deg)\",\n",
    "                \"Tuulen nopeus (m/s)\": \"Wind speed (m/s)\"\n",
    "    })\n",
    "\n",
    "    df = df.set_index(\"Timestamp\")\n",
    "    df.dropna(inplace=True)\n",
    "\n",
    "    return df"
   ]
  },
  {
   "cell_type": "code",
   "execution_count": 18,
   "metadata": {},
   "outputs": [
    {
     "data": {
      "text/html": [
       "<div>\n",
       "<style scoped>\n",
       "    .dataframe tbody tr th:only-of-type {\n",
       "        vertical-align: middle;\n",
       "    }\n",
       "\n",
       "    .dataframe tbody tr th {\n",
       "        vertical-align: top;\n",
       "    }\n",
       "\n",
       "    .dataframe thead th {\n",
       "        text-align: right;\n",
       "    }\n",
       "</style>\n",
       "<table border=\"1\" class=\"dataframe\">\n",
       "  <thead>\n",
       "    <tr style=\"text-align: right;\">\n",
       "      <th></th>\n",
       "      <th>Air pressure (msl) (hPa)</th>\n",
       "      <th>Relative humidity (%)</th>\n",
       "      <th>Rain intensity (mm/h)</th>\n",
       "      <th>Air temperature (degC)</th>\n",
       "      <th>Wind direction (deg)</th>\n",
       "      <th>Wind speed (m/s)</th>\n",
       "    </tr>\n",
       "    <tr>\n",
       "      <th>Timestamp</th>\n",
       "      <th></th>\n",
       "      <th></th>\n",
       "      <th></th>\n",
       "      <th></th>\n",
       "      <th></th>\n",
       "      <th></th>\n",
       "    </tr>\n",
       "  </thead>\n",
       "  <tbody>\n",
       "    <tr>\n",
       "      <th>2019-07-22 20:00:00</th>\n",
       "      <td>1014.9</td>\n",
       "      <td>78.0</td>\n",
       "      <td>0.0</td>\n",
       "      <td>18.7</td>\n",
       "      <td>323.0</td>\n",
       "      <td>1.8</td>\n",
       "    </tr>\n",
       "    <tr>\n",
       "      <th>2019-07-22 21:00:00</th>\n",
       "      <td>1014.9</td>\n",
       "      <td>80.0</td>\n",
       "      <td>0.0</td>\n",
       "      <td>18.3</td>\n",
       "      <td>321.0</td>\n",
       "      <td>1.8</td>\n",
       "    </tr>\n",
       "    <tr>\n",
       "      <th>2019-07-22 22:00:00</th>\n",
       "      <td>1015.0</td>\n",
       "      <td>84.0</td>\n",
       "      <td>0.0</td>\n",
       "      <td>17.4</td>\n",
       "      <td>330.0</td>\n",
       "      <td>1.8</td>\n",
       "    </tr>\n",
       "    <tr>\n",
       "      <th>2019-07-22 23:00:00</th>\n",
       "      <td>1015.1</td>\n",
       "      <td>85.0</td>\n",
       "      <td>0.0</td>\n",
       "      <td>16.8</td>\n",
       "      <td>353.0</td>\n",
       "      <td>1.2</td>\n",
       "    </tr>\n",
       "    <tr>\n",
       "      <th>2019-07-23 00:00:00</th>\n",
       "      <td>1015.2</td>\n",
       "      <td>88.0</td>\n",
       "      <td>0.0</td>\n",
       "      <td>16.4</td>\n",
       "      <td>22.0</td>\n",
       "      <td>1.9</td>\n",
       "    </tr>\n",
       "  </tbody>\n",
       "</table>\n",
       "</div>"
      ],
      "text/plain": [
       "                     Air pressure (msl) (hPa)  Relative humidity (%)  \\\n",
       "Timestamp                                                              \n",
       "2019-07-22 20:00:00                    1014.9                   78.0   \n",
       "2019-07-22 21:00:00                    1014.9                   80.0   \n",
       "2019-07-22 22:00:00                    1015.0                   84.0   \n",
       "2019-07-22 23:00:00                    1015.1                   85.0   \n",
       "2019-07-23 00:00:00                    1015.2                   88.0   \n",
       "\n",
       "                     Rain intensity (mm/h)  Air temperature (degC)  \\\n",
       "Timestamp                                                            \n",
       "2019-07-22 20:00:00                    0.0                    18.7   \n",
       "2019-07-22 21:00:00                    0.0                    18.3   \n",
       "2019-07-22 22:00:00                    0.0                    17.4   \n",
       "2019-07-22 23:00:00                    0.0                    16.8   \n",
       "2019-07-23 00:00:00                    0.0                    16.4   \n",
       "\n",
       "                     Wind direction (deg)  Wind speed (m/s)  \n",
       "Timestamp                                                    \n",
       "2019-07-22 20:00:00                 323.0               1.8  \n",
       "2019-07-22 21:00:00                 321.0               1.8  \n",
       "2019-07-22 22:00:00                 330.0               1.8  \n",
       "2019-07-22 23:00:00                 353.0               1.2  \n",
       "2019-07-23 00:00:00                  22.0               1.9  "
      ]
     },
     "execution_count": 18,
     "metadata": {},
     "output_type": "execute_result"
    }
   ],
   "source": [
    "weather_2014 = clean_weather_data(weather_2014)\n",
    "weather_2015 = clean_weather_data(weather_2015)\n",
    "weather_2016 = clean_weather_data(weather_2016)\n",
    "weather_2017 = clean_weather_data(weather_2017)\n",
    "weather_2018 = clean_weather_data(weather_2018)\n",
    "weather_2019 = clean_weather_data(weather_2019)\n",
    "weather_2019.tail()"
   ]
  },
  {
   "cell_type": "code",
   "execution_count": 19,
   "metadata": {},
   "outputs": [],
   "source": [
    "weather = pd.concat([weather_2014, weather_2015, weather_2016, weather_2017, weather_2018, weather_2019])\n",
    "weather.sort_index(inplace=True)\n"
   ]
  },
  {
   "cell_type": "code",
   "execution_count": 20,
   "metadata": {},
   "outputs": [
    {
     "data": {
      "text/html": [
       "<div>\n",
       "<style scoped>\n",
       "    .dataframe tbody tr th:only-of-type {\n",
       "        vertical-align: middle;\n",
       "    }\n",
       "\n",
       "    .dataframe tbody tr th {\n",
       "        vertical-align: top;\n",
       "    }\n",
       "\n",
       "    .dataframe thead th {\n",
       "        text-align: right;\n",
       "    }\n",
       "</style>\n",
       "<table border=\"1\" class=\"dataframe\">\n",
       "  <thead>\n",
       "    <tr style=\"text-align: right;\">\n",
       "      <th></th>\n",
       "      <th>Air pressure (msl) (hPa)</th>\n",
       "      <th>Relative humidity (%)</th>\n",
       "      <th>Rain intensity (mm/h)</th>\n",
       "      <th>Air temperature (degC)</th>\n",
       "      <th>Wind direction (deg)</th>\n",
       "      <th>Wind speed (m/s)</th>\n",
       "    </tr>\n",
       "    <tr>\n",
       "      <th>Timestamp</th>\n",
       "      <th></th>\n",
       "      <th></th>\n",
       "      <th></th>\n",
       "      <th></th>\n",
       "      <th></th>\n",
       "      <th></th>\n",
       "    </tr>\n",
       "  </thead>\n",
       "  <tbody>\n",
       "    <tr>\n",
       "      <th>2019-07-22 20:00:00</th>\n",
       "      <td>1014.9</td>\n",
       "      <td>78.0</td>\n",
       "      <td>0.0</td>\n",
       "      <td>18.7</td>\n",
       "      <td>323.0</td>\n",
       "      <td>1.8</td>\n",
       "    </tr>\n",
       "    <tr>\n",
       "      <th>2019-07-22 21:00:00</th>\n",
       "      <td>1014.9</td>\n",
       "      <td>80.0</td>\n",
       "      <td>0.0</td>\n",
       "      <td>18.3</td>\n",
       "      <td>321.0</td>\n",
       "      <td>1.8</td>\n",
       "    </tr>\n",
       "    <tr>\n",
       "      <th>2019-07-22 22:00:00</th>\n",
       "      <td>1015.0</td>\n",
       "      <td>84.0</td>\n",
       "      <td>0.0</td>\n",
       "      <td>17.4</td>\n",
       "      <td>330.0</td>\n",
       "      <td>1.8</td>\n",
       "    </tr>\n",
       "    <tr>\n",
       "      <th>2019-07-22 23:00:00</th>\n",
       "      <td>1015.1</td>\n",
       "      <td>85.0</td>\n",
       "      <td>0.0</td>\n",
       "      <td>16.8</td>\n",
       "      <td>353.0</td>\n",
       "      <td>1.2</td>\n",
       "    </tr>\n",
       "    <tr>\n",
       "      <th>2019-07-23 00:00:00</th>\n",
       "      <td>1015.2</td>\n",
       "      <td>88.0</td>\n",
       "      <td>0.0</td>\n",
       "      <td>16.4</td>\n",
       "      <td>22.0</td>\n",
       "      <td>1.9</td>\n",
       "    </tr>\n",
       "  </tbody>\n",
       "</table>\n",
       "</div>"
      ],
      "text/plain": [
       "                     Air pressure (msl) (hPa)  Relative humidity (%)  \\\n",
       "Timestamp                                                              \n",
       "2019-07-22 20:00:00                    1014.9                   78.0   \n",
       "2019-07-22 21:00:00                    1014.9                   80.0   \n",
       "2019-07-22 22:00:00                    1015.0                   84.0   \n",
       "2019-07-22 23:00:00                    1015.1                   85.0   \n",
       "2019-07-23 00:00:00                    1015.2                   88.0   \n",
       "\n",
       "                     Rain intensity (mm/h)  Air temperature (degC)  \\\n",
       "Timestamp                                                            \n",
       "2019-07-22 20:00:00                    0.0                    18.7   \n",
       "2019-07-22 21:00:00                    0.0                    18.3   \n",
       "2019-07-22 22:00:00                    0.0                    17.4   \n",
       "2019-07-22 23:00:00                    0.0                    16.8   \n",
       "2019-07-23 00:00:00                    0.0                    16.4   \n",
       "\n",
       "                     Wind direction (deg)  Wind speed (m/s)  \n",
       "Timestamp                                                    \n",
       "2019-07-22 20:00:00                 323.0               1.8  \n",
       "2019-07-22 21:00:00                 321.0               1.8  \n",
       "2019-07-22 22:00:00                 330.0               1.8  \n",
       "2019-07-22 23:00:00                 353.0               1.2  \n",
       "2019-07-23 00:00:00                  22.0               1.9  "
      ]
     },
     "execution_count": 20,
     "metadata": {},
     "output_type": "execute_result"
    }
   ],
   "source": [
    "weather.tail()"
   ]
  },
  {
   "cell_type": "markdown",
   "metadata": {},
   "source": [
    "Use Pandas merge functionality to combine data frames. Since both use the datetime index we can map the hourly measurements."
   ]
  },
  {
   "cell_type": "code",
   "execution_count": 21,
   "metadata": {},
   "outputs": [
    {
     "data": {
      "text/html": [
       "<div>\n",
       "<style scoped>\n",
       "    .dataframe tbody tr th:only-of-type {\n",
       "        vertical-align: middle;\n",
       "    }\n",
       "\n",
       "    .dataframe tbody tr th {\n",
       "        vertical-align: top;\n",
       "    }\n",
       "\n",
       "    .dataframe thead th {\n",
       "        text-align: right;\n",
       "    }\n",
       "</style>\n",
       "<table border=\"1\" class=\"dataframe\">\n",
       "  <thead>\n",
       "    <tr style=\"text-align: right;\">\n",
       "      <th></th>\n",
       "      <th>Mannerheimintie</th>\n",
       "      <th>Air pressure (msl) (hPa)</th>\n",
       "      <th>Relative humidity (%)</th>\n",
       "      <th>Rain intensity (mm/h)</th>\n",
       "      <th>Air temperature (degC)</th>\n",
       "      <th>Wind direction (deg)</th>\n",
       "      <th>Wind speed (m/s)</th>\n",
       "    </tr>\n",
       "    <tr>\n",
       "      <th>Timestamp</th>\n",
       "      <th></th>\n",
       "      <th></th>\n",
       "      <th></th>\n",
       "      <th></th>\n",
       "      <th></th>\n",
       "      <th></th>\n",
       "      <th></th>\n",
       "    </tr>\n",
       "  </thead>\n",
       "  <tbody>\n",
       "    <tr>\n",
       "      <th>2014-01-01 01:00:00</th>\n",
       "      <td>78.0</td>\n",
       "      <td>1016.8</td>\n",
       "      <td>89.0</td>\n",
       "      <td>0.0</td>\n",
       "      <td>5.1</td>\n",
       "      <td>253.0</td>\n",
       "      <td>4.9</td>\n",
       "    </tr>\n",
       "    <tr>\n",
       "      <th>2014-01-01 02:00:00</th>\n",
       "      <td>68.0</td>\n",
       "      <td>1016.8</td>\n",
       "      <td>87.0</td>\n",
       "      <td>0.0</td>\n",
       "      <td>5.1</td>\n",
       "      <td>255.0</td>\n",
       "      <td>5.6</td>\n",
       "    </tr>\n",
       "    <tr>\n",
       "      <th>2014-01-01 03:00:00</th>\n",
       "      <td>60.0</td>\n",
       "      <td>1016.9</td>\n",
       "      <td>85.0</td>\n",
       "      <td>0.0</td>\n",
       "      <td>5.2</td>\n",
       "      <td>246.0</td>\n",
       "      <td>5.3</td>\n",
       "    </tr>\n",
       "    <tr>\n",
       "      <th>2014-01-01 04:00:00</th>\n",
       "      <td>48.0</td>\n",
       "      <td>1016.9</td>\n",
       "      <td>86.0</td>\n",
       "      <td>0.0</td>\n",
       "      <td>5.2</td>\n",
       "      <td>254.0</td>\n",
       "      <td>5.7</td>\n",
       "    </tr>\n",
       "    <tr>\n",
       "      <th>2014-01-01 05:00:00</th>\n",
       "      <td>51.0</td>\n",
       "      <td>1017.1</td>\n",
       "      <td>89.0</td>\n",
       "      <td>0.0</td>\n",
       "      <td>5.1</td>\n",
       "      <td>249.0</td>\n",
       "      <td>4.3</td>\n",
       "    </tr>\n",
       "  </tbody>\n",
       "</table>\n",
       "</div>"
      ],
      "text/plain": [
       "                     Mannerheimintie  Air pressure (msl) (hPa)  \\\n",
       "Timestamp                                                        \n",
       "2014-01-01 01:00:00             78.0                    1016.8   \n",
       "2014-01-01 02:00:00             68.0                    1016.8   \n",
       "2014-01-01 03:00:00             60.0                    1016.9   \n",
       "2014-01-01 04:00:00             48.0                    1016.9   \n",
       "2014-01-01 05:00:00             51.0                    1017.1   \n",
       "\n",
       "                     Relative humidity (%)  Rain intensity (mm/h)  \\\n",
       "Timestamp                                                           \n",
       "2014-01-01 01:00:00                   89.0                    0.0   \n",
       "2014-01-01 02:00:00                   87.0                    0.0   \n",
       "2014-01-01 03:00:00                   85.0                    0.0   \n",
       "2014-01-01 04:00:00                   86.0                    0.0   \n",
       "2014-01-01 05:00:00                   89.0                    0.0   \n",
       "\n",
       "                     Air temperature (degC)  Wind direction (deg)  \\\n",
       "Timestamp                                                           \n",
       "2014-01-01 01:00:00                     5.1                 253.0   \n",
       "2014-01-01 02:00:00                     5.1                 255.0   \n",
       "2014-01-01 03:00:00                     5.2                 246.0   \n",
       "2014-01-01 04:00:00                     5.2                 254.0   \n",
       "2014-01-01 05:00:00                     5.1                 249.0   \n",
       "\n",
       "                     Wind speed (m/s)  \n",
       "Timestamp                              \n",
       "2014-01-01 01:00:00               4.9  \n",
       "2014-01-01 02:00:00               5.6  \n",
       "2014-01-01 03:00:00               5.3  \n",
       "2014-01-01 04:00:00               5.7  \n",
       "2014-01-01 05:00:00               4.3  "
      ]
     },
     "execution_count": 21,
     "metadata": {},
     "output_type": "execute_result"
    }
   ],
   "source": [
    "aqi_weather = pd.merge_asof(df, weather, left_index=True, right_index=True)\n",
    "aqi_weather.head()"
   ]
  },
  {
   "cell_type": "markdown",
   "metadata": {},
   "source": [
    "Let's plot a correlation matrix to see how strongly the air quality index is correlated with weather."
   ]
  },
  {
   "cell_type": "code",
   "execution_count": 22,
   "metadata": {},
   "outputs": [
    {
     "data": {
      "text/plain": [
       "<matplotlib.axes._subplots.AxesSubplot at 0x1a1b957668>"
      ]
     },
     "execution_count": 22,
     "metadata": {},
     "output_type": "execute_result"
    },
    {
     "data": {
      "image/png": "[encoded data removed]",
      "text/plain": [
       "<Figure size 720x576 with 2 Axes>"
      ]
     },
     "metadata": {
      "needs_background": "light"
     },
     "output_type": "display_data"
    }
   ],
   "source": [
    "f, ax = plt.subplots(figsize=(10, 8))\n",
    "corr = aqi_weather.corr()\n",
    "sns.heatmap(corr, mask=np.zeros_like(corr, dtype=np.bool), cmap=sns.diverging_palette(220, 10, as_cmap=True),\n",
    "            square=True, ax=ax, annot=True)"
   ]
  },
  {
   "cell_type": "markdown",
   "metadata": {},
   "source": [
    "Suprisingly weather data is not very strongly correlated. From this we can conclude that weather information might be used as an extra features for air quality index prediction.\n",
    "\n",
    "Next let's see how traffic data is related to the air quality index. Unfortunately we only have average number of car per hour per year (i.e. no daily data) so we need to calculate average air quality indes per hour per year."
   ]
  },
  {
   "cell_type": "code",
   "execution_count": 23,
   "metadata": {},
   "outputs": [],
   "source": [
    "def fix_traffic_time(time_str):\n",
    "    if time_str == 0:\n",
    "        return \"00:00\"\n",
    "    else:\n",
    "        hour = int(time_str/100)\n",
    "        return \"{}:{}\".format(str(hour).rjust(2, '0'), str(time_str - (hour * 100)).ljust(2, '0'))"
   ]
  },
  {
   "cell_type": "code",
   "execution_count": 24,
   "metadata": {},
   "outputs": [
    {
     "data": {
      "text/html": [
       "<div>\n",
       "<style scoped>\n",
       "    .dataframe tbody tr th:only-of-type {\n",
       "        vertical-align: middle;\n",
       "    }\n",
       "\n",
       "    .dataframe tbody tr th {\n",
       "        vertical-align: top;\n",
       "    }\n",
       "\n",
       "    .dataframe thead th {\n",
       "        text-align: right;\n",
       "    }\n",
       "</style>\n",
       "<table border=\"1\" class=\"dataframe\">\n",
       "  <thead>\n",
       "    <tr style=\"text-align: right;\">\n",
       "      <th></th>\n",
       "      <th>name</th>\n",
       "      <th>time</th>\n",
       "      <th>year</th>\n",
       "      <th>cars</th>\n",
       "    </tr>\n",
       "  </thead>\n",
       "  <tbody>\n",
       "    <tr>\n",
       "      <th>0</th>\n",
       "      <td>MANNERHEIMINTIE</td>\n",
       "      <td>00:00:00</td>\n",
       "      <td>2011</td>\n",
       "      <td>230</td>\n",
       "    </tr>\n",
       "    <tr>\n",
       "      <th>1</th>\n",
       "      <td>MANNERHEIMINTIE</td>\n",
       "      <td>01:00:00</td>\n",
       "      <td>2011</td>\n",
       "      <td>154</td>\n",
       "    </tr>\n",
       "    <tr>\n",
       "      <th>2</th>\n",
       "      <td>MANNERHEIMINTIE</td>\n",
       "      <td>02:00:00</td>\n",
       "      <td>2011</td>\n",
       "      <td>145</td>\n",
       "    </tr>\n",
       "    <tr>\n",
       "      <th>3</th>\n",
       "      <td>MANNERHEIMINTIE</td>\n",
       "      <td>03:00:00</td>\n",
       "      <td>2011</td>\n",
       "      <td>132</td>\n",
       "    </tr>\n",
       "    <tr>\n",
       "      <th>4</th>\n",
       "      <td>MANNERHEIMINTIE</td>\n",
       "      <td>04:00:00</td>\n",
       "      <td>2011</td>\n",
       "      <td>148</td>\n",
       "    </tr>\n",
       "  </tbody>\n",
       "</table>\n",
       "</div>"
      ],
      "text/plain": [
       "              name      time  year  cars\n",
       "0  MANNERHEIMINTIE  00:00:00  2011   230\n",
       "1  MANNERHEIMINTIE  01:00:00  2011   154\n",
       "2  MANNERHEIMINTIE  02:00:00  2011   145\n",
       "3  MANNERHEIMINTIE  03:00:00  2011   132\n",
       "4  MANNERHEIMINTIE  04:00:00  2011   148"
      ]
     },
     "execution_count": 24,
     "metadata": {},
     "output_type": "execute_result"
    }
   ],
   "source": [
    "traffic = pd.read_csv(\"data/traffic_data.csv\", sep=\";\")\n",
    "traffic = traffic[traffic[\"nimi\"]==\"MANNERHEIMINTIE\"]\n",
    "traffic = traffic.filter([\"nimi\", \"aika\", \"vuosi\", \"autot\"])\n",
    "traffic[\"aika\"] = traffic[\"aika\"].apply(fix_traffic_time)\n",
    "traffic[\"aika\"] = pd.to_datetime(traffic[\"aika\"],format= '%H:%M' ).dt.time\n",
    "traffic = traffic.rename(columns={ \"nimi\": \"name\", \"aika\": \"time\", \"vuosi\": \"year\", \"autot\": \"cars\"})\n",
    "traffic = traffic.reset_index()\n",
    "traffic = traffic.drop(\"index\", axis=1)\n",
    "traffic[\"time\"] = traffic[\"time\"].astype(str)\n",
    "traffic[\"year\"] = traffic[\"year\"].astype(str)\n",
    "\n",
    "traffic.head()"
   ]
  },
  {
   "cell_type": "code",
   "execution_count": 25,
   "metadata": {},
   "outputs": [],
   "source": [
    "import datetime\n",
    "\n",
    "def combine_with_traffic(aqi, traffic):\n",
    "    dfs = []\n",
    "    for year in [\"2014\", \"2015\", \"2016\", \"2017\", \"2018\"]:\n",
    "        bstr = \"{}0101\".format(year)\n",
    "        estr = \"{}1231\".format(year)\n",
    "        df1 = aqi[bstr:estr]\n",
    "        df2 = traffic[traffic[\"year\"] == year]\n",
    "        for i in range(24):\n",
    "            ctime = datetime.time(i, 0)\n",
    "            aqi_mean = df1.at_time(ctime).mean().values[0]\n",
    "            cars = df2[df2[\"time\"] == str(ctime)]\n",
    "            ncars = cars[\"cars\"].sum()\n",
    "            dfs.append(pd.DataFrame({\"year\": [year], \"time\": [str(ctime)], \n",
    "                                     \"air quality index mean\": [aqi_mean], \n",
    "                                     \"number of cars\": [ncars]}))\n",
    "    return pd.concat(dfs, ignore_index=True)"
   ]
  },
  {
   "cell_type": "code",
   "execution_count": 26,
   "metadata": {},
   "outputs": [
    {
     "data": {
      "text/html": [
       "<div>\n",
       "<style scoped>\n",
       "    .dataframe tbody tr th:only-of-type {\n",
       "        vertical-align: middle;\n",
       "    }\n",
       "\n",
       "    .dataframe tbody tr th {\n",
       "        vertical-align: top;\n",
       "    }\n",
       "\n",
       "    .dataframe thead th {\n",
       "        text-align: right;\n",
       "    }\n",
       "</style>\n",
       "<table border=\"1\" class=\"dataframe\">\n",
       "  <thead>\n",
       "    <tr style=\"text-align: right;\">\n",
       "      <th></th>\n",
       "      <th>year</th>\n",
       "      <th>time</th>\n",
       "      <th>air quality index mean</th>\n",
       "      <th>number of cars</th>\n",
       "    </tr>\n",
       "  </thead>\n",
       "  <tbody>\n",
       "    <tr>\n",
       "      <th>0</th>\n",
       "      <td>2014</td>\n",
       "      <td>00:00:00</td>\n",
       "      <td>54.634615</td>\n",
       "      <td>560</td>\n",
       "    </tr>\n",
       "    <tr>\n",
       "      <th>1</th>\n",
       "      <td>2014</td>\n",
       "      <td>01:00:00</td>\n",
       "      <td>54.690411</td>\n",
       "      <td>414</td>\n",
       "    </tr>\n",
       "    <tr>\n",
       "      <th>2</th>\n",
       "      <td>2014</td>\n",
       "      <td>02:00:00</td>\n",
       "      <td>56.013736</td>\n",
       "      <td>327</td>\n",
       "    </tr>\n",
       "    <tr>\n",
       "      <th>3</th>\n",
       "      <td>2014</td>\n",
       "      <td>03:00:00</td>\n",
       "      <td>55.260989</td>\n",
       "      <td>307</td>\n",
       "    </tr>\n",
       "    <tr>\n",
       "      <th>4</th>\n",
       "      <td>2014</td>\n",
       "      <td>04:00:00</td>\n",
       "      <td>54.019231</td>\n",
       "      <td>335</td>\n",
       "    </tr>\n",
       "  </tbody>\n",
       "</table>\n",
       "</div>"
      ],
      "text/plain": [
       "   year      time  air quality index mean  number of cars\n",
       "0  2014  00:00:00               54.634615             560\n",
       "1  2014  01:00:00               54.690411             414\n",
       "2  2014  02:00:00               56.013736             327\n",
       "3  2014  03:00:00               55.260989             307\n",
       "4  2014  04:00:00               54.019231             335"
      ]
     },
     "execution_count": 26,
     "metadata": {},
     "output_type": "execute_result"
    }
   ],
   "source": [
    "d = combine_with_traffic(df, traffic)\n",
    "d.head()\n"
   ]
  },
  {
   "cell_type": "code",
   "execution_count": 27,
   "metadata": {},
   "outputs": [
    {
     "data": {
      "text/html": [
       "<div>\n",
       "<style scoped>\n",
       "    .dataframe tbody tr th:only-of-type {\n",
       "        vertical-align: middle;\n",
       "    }\n",
       "\n",
       "    .dataframe tbody tr th {\n",
       "        vertical-align: top;\n",
       "    }\n",
       "\n",
       "    .dataframe thead th {\n",
       "        text-align: right;\n",
       "    }\n",
       "</style>\n",
       "<table border=\"1\" class=\"dataframe\">\n",
       "  <thead>\n",
       "    <tr style=\"text-align: right;\">\n",
       "      <th></th>\n",
       "      <th>air quality index mean</th>\n",
       "      <th>number of cars</th>\n",
       "    </tr>\n",
       "  </thead>\n",
       "  <tbody>\n",
       "    <tr>\n",
       "      <th>0</th>\n",
       "      <td>54.634615</td>\n",
       "      <td>560</td>\n",
       "    </tr>\n",
       "    <tr>\n",
       "      <th>1</th>\n",
       "      <td>54.690411</td>\n",
       "      <td>414</td>\n",
       "    </tr>\n",
       "    <tr>\n",
       "      <th>2</th>\n",
       "      <td>56.013736</td>\n",
       "      <td>327</td>\n",
       "    </tr>\n",
       "    <tr>\n",
       "      <th>3</th>\n",
       "      <td>55.260989</td>\n",
       "      <td>307</td>\n",
       "    </tr>\n",
       "    <tr>\n",
       "      <th>4</th>\n",
       "      <td>54.019231</td>\n",
       "      <td>335</td>\n",
       "    </tr>\n",
       "  </tbody>\n",
       "</table>\n",
       "</div>"
      ],
      "text/plain": [
       "   air quality index mean  number of cars\n",
       "0               54.634615             560\n",
       "1               54.690411             414\n",
       "2               56.013736             327\n",
       "3               55.260989             307\n",
       "4               54.019231             335"
      ]
     },
     "execution_count": 27,
     "metadata": {},
     "output_type": "execute_result"
    }
   ],
   "source": [
    "aqi_traffic = d.filter([\"air quality index mean\", \"number of cars\"])\n",
    "aqi_traffic.head()"
   ]
  },
  {
   "cell_type": "code",
   "execution_count": 28,
   "metadata": {},
   "outputs": [
    {
     "data": {
      "text/plain": [
       "<matplotlib.axes._subplots.AxesSubplot at 0x1a2b0923c8>"
      ]
     },
     "execution_count": 28,
     "metadata": {},
     "output_type": "execute_result"
    },
    {
     "data": {
      "image/png": "[encoded data removed]",
      "text/plain": [
       "<Figure size 576x288 with 2 Axes>"
      ]
     },
     "metadata": {
      "needs_background": "light"
     },
     "output_type": "display_data"
    }
   ],
   "source": [
    "f, ax = plt.subplots(figsize=(8, 4))\n",
    "corr = aqi_traffic.corr()\n",
    "sns.heatmap(corr, mask=np.zeros_like(corr, dtype=np.bool), cmap=sns.diverging_palette(220, 10, as_cmap=True),\n",
    "            square=True, ax=ax, annot=True)"
   ]
  },
  {
   "cell_type": "markdown",
   "metadata": {},
   "source": [
    "And as we can see from the correlation matrix the amount of traffic is somewhat positively correlated with the air quality index. Unfortunately our traffic data is not very good so this correlation is only an approximation."
   ]
  },
  {
   "cell_type": "code",
   "execution_count": null,
   "metadata": {},
   "outputs": [],
   "source": []
  }
 ],
 "metadata": {
  "kernelspec": {
   "display_name": "Python 3",
   "language": "python",
   "name": "python3"
  },
  "language_info": {
   "codemirror_mode": {
    "name": "ipython",
    "version": 3
   },
   "file_extension": ".py",
   "mimetype": "text/x-python",
   "name": "python",
   "nbconvert_exporter": "python",
   "pygments_lexer": "ipython3",
   "version": "3.7.3"
  }
 },
 "nbformat": 4,
 "nbformat_minor": 2
}
