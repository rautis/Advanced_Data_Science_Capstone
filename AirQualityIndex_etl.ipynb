{
 "cells": [
  {
   "cell_type": "code",
   "execution_count": 17,
   "metadata": {},
   "outputs": [],
   "source": [
    "from pyspark import SparkContext\n",
    "from pyspark.sql import SQLContext\n",
    "from pyspark.sql.types import *\n",
    "import pandas as pd"
   ]
  },
  {
   "cell_type": "code",
   "execution_count": 36,
   "metadata": {},
   "outputs": [],
   "source": [
    "# clean up timestamps, extract only relevant columns & use timestamp as index\n",
    "# finally drop NAs\n",
    "def clean_dataframe(df):\n",
    "    timestamp_pat = '(?P<day>\\d{2})/(?P<month>\\d{2})/(?P<year>\\d{4}) +(?P<hour>\\d{2}):(?P<minute>\\d{2})'\n",
    "    df[\"Timestamp\"] = pd.to_datetime(df[\"Timestamp\"].str.extract(timestamp_pat, expand=True))\n",
    "    df = df.filter([\"Timestamp\", \"Mannerheimintie\"])\n",
    "    #df[[\"Mannerheimintie\"]] = df[[\"Mannerheimintie\"]].apply(pd.to_numeric, errors='coerce', axis=1) \n",
    "    df[\"Mannerheimintie\"] = pd.to_numeric(df[\"Mannerheimintie\"], errors='coerce') \n",
    "\n",
    "    df = df.dropna()\n",
    "    \n",
    "    return df"
   ]
  },
  {
   "cell_type": "code",
   "execution_count": 38,
   "metadata": {},
   "outputs": [
    {
     "data": {
      "text/html": [
       "<div>\n",
       "<style scoped>\n",
       "    .dataframe tbody tr th:only-of-type {\n",
       "        vertical-align: middle;\n",
       "    }\n",
       "\n",
       "    .dataframe tbody tr th {\n",
       "        vertical-align: top;\n",
       "    }\n",
       "\n",
       "    .dataframe thead th {\n",
       "        text-align: right;\n",
       "    }\n",
       "</style>\n",
       "<table border=\"1\" class=\"dataframe\">\n",
       "  <thead>\n",
       "    <tr style=\"text-align: right;\">\n",
       "      <th></th>\n",
       "      <th>Timestamp</th>\n",
       "      <th>Mannerheimintie</th>\n",
       "    </tr>\n",
       "  </thead>\n",
       "  <tbody>\n",
       "    <tr>\n",
       "      <th>0</th>\n",
       "      <td>2014-01-01 01:00:00</td>\n",
       "      <td>78.0</td>\n",
       "    </tr>\n",
       "    <tr>\n",
       "      <th>1</th>\n",
       "      <td>2014-01-01 02:00:00</td>\n",
       "      <td>68.0</td>\n",
       "    </tr>\n",
       "    <tr>\n",
       "      <th>2</th>\n",
       "      <td>2014-01-01 03:00:00</td>\n",
       "      <td>60.0</td>\n",
       "    </tr>\n",
       "    <tr>\n",
       "      <th>3</th>\n",
       "      <td>2014-01-01 04:00:00</td>\n",
       "      <td>48.0</td>\n",
       "    </tr>\n",
       "    <tr>\n",
       "      <th>4</th>\n",
       "      <td>2014-01-01 05:00:00</td>\n",
       "      <td>51.0</td>\n",
       "    </tr>\n",
       "  </tbody>\n",
       "</table>\n",
       "</div>"
      ],
      "text/plain": [
       "            Timestamp  Mannerheimintie\n",
       "0 2014-01-01 01:00:00             78.0\n",
       "1 2014-01-01 02:00:00             68.0\n",
       "2 2014-01-01 03:00:00             60.0\n",
       "3 2014-01-01 04:00:00             48.0\n",
       "4 2014-01-01 05:00:00             51.0"
      ]
     },
     "execution_count": 38,
     "metadata": {},
     "output_type": "execute_result"
    }
   ],
   "source": [
    "df_2014 = clean_dataframe(pd.read_csv(\"data/air-quality-index-2014.csv\", sep=\";\"))\n",
    "df_2015 = clean_dataframe(pd.read_csv(\"data/air-quality-index-2015.csv\", sep=\";\"))\n",
    "df_2016 = clean_dataframe(pd.read_csv(\"data/air-quality-index-2016.csv\", sep=\";\"))\n",
    "df_2017 = clean_dataframe(pd.read_csv(\"data/air-quality-index-2017.csv\", sep=\";\"))\n",
    "df_2018 = clean_dataframe(pd.read_csv(\"data/air-quality-index-2018.csv\", sep=\";\"))\n",
    "df_2019 = clean_dataframe(pd.read_csv(\"data/air-quality-index-2019.csv\", sep=\";\"))\n",
    "df = pd.concat([df_2014, df_2015, df_2016, df_2017, df_2018, df_2019])\n",
    "\n",
    "df = df.reset_index()\n",
    "df = df.drop(\"index\", axis=1)\n",
    "df.head()"
   ]
  },
  {
   "cell_type": "code",
   "execution_count": 28,
   "metadata": {},
   "outputs": [],
   "source": [
    "# clean up weather data\n",
    "def clean_weather_data(df):\n",
    "    time_data = df.Klo.str.split(\":\", n = 1, expand = True)\n",
    "    df[\"Tunti\"] = time_data[0]\n",
    "    df[\"Minuutti\"] = time_data[1]\n",
    "    df[\"Timestamp\"] = pd.to_datetime(dict(year=df.Vuosi, month=df.Kk, \n",
    "                                          day=df.Pv, hour=df.Tunti,\n",
    "                                          minute=df.Minuutti))\n",
    "    df.drop(\"Vuosi\", axis=1, inplace=True)\n",
    "    df.drop(\"Kk\", axis=1, inplace=True)\n",
    "    df.drop(\"Pv\", axis=1, inplace=True)\n",
    "    df.drop(\"Klo\", axis=1, inplace=True)\n",
    "    df.drop(\"Aikavyöhyke\", axis=1, inplace=True)\n",
    "    df.drop(\"Tunti\", axis=1, inplace=True)\n",
    "    df.drop(\"Minuutti\", axis=1, inplace=True)\n",
    "\n",
    "    cols = [\"Ilmanpaine (msl) (hPa)\", \"Suhteellinen kosteus (%)\", \"Sateen intensiteetti (mm/h)\",\n",
    "            \"Ilman lämpötila (degC)\", \"Tuulen suunta (deg)\", \"Tuulen nopeus (m/s)\"]\n",
    "    df[cols] = df[cols].apply(pd.to_numeric, errors='coerce', axis=1) \n",
    "    \n",
    "    df = df.rename(columns = { \n",
    "                \"Ilmanpaine (msl) (hPa)\": \"Air pressure (msl) (hPa)\", \n",
    "                \"Suhteellinen kosteus (%)\": \"Relative humidity (%)\",\n",
    "                \"Sateen intensiteetti (mm/h)\": \"Rain intensity (mm/h)\",\n",
    "                \"Ilman lämpötila (degC)\": \"Air temperature (degC)\",\n",
    "                \"Tuulen suunta (deg)\": \"Wind direction (deg)\",\n",
    "                \"Tuulen nopeus (m/s)\": \"Wind speed (m/s)\"\n",
    "    })\n",
    "\n",
    "    df.dropna(inplace=True)\n",
    "\n",
    "    return df"
   ]
  },
  {
   "cell_type": "code",
   "execution_count": 29,
   "metadata": {},
   "outputs": [
    {
     "data": {
      "text/html": [
       "<div>\n",
       "<style scoped>\n",
       "    .dataframe tbody tr th:only-of-type {\n",
       "        vertical-align: middle;\n",
       "    }\n",
       "\n",
       "    .dataframe tbody tr th {\n",
       "        vertical-align: top;\n",
       "    }\n",
       "\n",
       "    .dataframe thead th {\n",
       "        text-align: right;\n",
       "    }\n",
       "</style>\n",
       "<table border=\"1\" class=\"dataframe\">\n",
       "  <thead>\n",
       "    <tr style=\"text-align: right;\">\n",
       "      <th></th>\n",
       "      <th>Air pressure (msl) (hPa)</th>\n",
       "      <th>Relative humidity (%)</th>\n",
       "      <th>Rain intensity (mm/h)</th>\n",
       "      <th>Air temperature (degC)</th>\n",
       "      <th>Wind direction (deg)</th>\n",
       "      <th>Wind speed (m/s)</th>\n",
       "      <th>Timestamp</th>\n",
       "    </tr>\n",
       "  </thead>\n",
       "  <tbody>\n",
       "    <tr>\n",
       "      <th>0</th>\n",
       "      <td>1016.8</td>\n",
       "      <td>90.0</td>\n",
       "      <td>0.0</td>\n",
       "      <td>5.3</td>\n",
       "      <td>246.0</td>\n",
       "      <td>4.9</td>\n",
       "      <td>2014-01-01 00:00:00</td>\n",
       "    </tr>\n",
       "    <tr>\n",
       "      <th>1</th>\n",
       "      <td>1016.8</td>\n",
       "      <td>89.0</td>\n",
       "      <td>0.0</td>\n",
       "      <td>5.1</td>\n",
       "      <td>253.0</td>\n",
       "      <td>4.9</td>\n",
       "      <td>2014-01-01 01:00:00</td>\n",
       "    </tr>\n",
       "    <tr>\n",
       "      <th>2</th>\n",
       "      <td>1016.8</td>\n",
       "      <td>87.0</td>\n",
       "      <td>0.0</td>\n",
       "      <td>5.1</td>\n",
       "      <td>255.0</td>\n",
       "      <td>5.6</td>\n",
       "      <td>2014-01-01 02:00:00</td>\n",
       "    </tr>\n",
       "    <tr>\n",
       "      <th>3</th>\n",
       "      <td>1016.9</td>\n",
       "      <td>85.0</td>\n",
       "      <td>0.0</td>\n",
       "      <td>5.2</td>\n",
       "      <td>246.0</td>\n",
       "      <td>5.3</td>\n",
       "      <td>2014-01-01 03:00:00</td>\n",
       "    </tr>\n",
       "    <tr>\n",
       "      <th>4</th>\n",
       "      <td>1016.9</td>\n",
       "      <td>86.0</td>\n",
       "      <td>0.0</td>\n",
       "      <td>5.2</td>\n",
       "      <td>254.0</td>\n",
       "      <td>5.7</td>\n",
       "      <td>2014-01-01 04:00:00</td>\n",
       "    </tr>\n",
       "  </tbody>\n",
       "</table>\n",
       "</div>"
      ],
      "text/plain": [
       "   Air pressure (msl) (hPa)  Relative humidity (%)  Rain intensity (mm/h)  \\\n",
       "0                    1016.8                   90.0                    0.0   \n",
       "1                    1016.8                   89.0                    0.0   \n",
       "2                    1016.8                   87.0                    0.0   \n",
       "3                    1016.9                   85.0                    0.0   \n",
       "4                    1016.9                   86.0                    0.0   \n",
       "\n",
       "   Air temperature (degC)  Wind direction (deg)  Wind speed (m/s)  \\\n",
       "0                     5.3                 246.0               4.9   \n",
       "1                     5.1                 253.0               4.9   \n",
       "2                     5.1                 255.0               5.6   \n",
       "3                     5.2                 246.0               5.3   \n",
       "4                     5.2                 254.0               5.7   \n",
       "\n",
       "            Timestamp  \n",
       "0 2014-01-01 00:00:00  \n",
       "1 2014-01-01 01:00:00  \n",
       "2 2014-01-01 02:00:00  \n",
       "3 2014-01-01 03:00:00  \n",
       "4 2014-01-01 04:00:00  "
      ]
     },
     "execution_count": 29,
     "metadata": {},
     "output_type": "execute_result"
    }
   ],
   "source": [
    "weather_2014 = clean_weather_data(pd.read_csv(\"data/weather-2014.csv\", sep=\",\"))\n",
    "weather_2015 = clean_weather_data(pd.read_csv(\"data/weather-2015.csv\", sep=\",\"))\n",
    "weather_2016 = clean_weather_data(pd.read_csv(\"data/weather-2016.csv\", sep=\",\"))\n",
    "weather_2017 = clean_weather_data(pd.read_csv(\"data/weather-2017.csv\", sep=\",\"))\n",
    "weather_2018 = clean_weather_data(pd.read_csv(\"data/weather-2018.csv\", sep=\",\"))\n",
    "weather_2019 = clean_weather_data(pd.read_csv(\"data/weather-2019.csv\", sep=\",\"))\n",
    "\n",
    "weather = pd.concat([weather_2014, weather_2015, weather_2016, weather_2017, weather_2018, weather_2019])\n",
    "\n",
    "weather = weather.reset_index()\n",
    "weather = weather.drop(\"index\", axis=1)\n",
    "weather.head()"
   ]
  },
  {
   "cell_type": "code",
   "execution_count": 39,
   "metadata": {},
   "outputs": [
    {
     "data": {
      "text/plain": [
       "Timestamp          datetime64[ns]\n",
       "Mannerheimintie           float64\n",
       "dtype: object"
      ]
     },
     "execution_count": 39,
     "metadata": {},
     "output_type": "execute_result"
    }
   ],
   "source": [
    "df.dtypes"
   ]
  },
  {
   "cell_type": "code",
   "execution_count": 31,
   "metadata": {},
   "outputs": [
    {
     "data": {
      "text/plain": [
       "Air pressure (msl) (hPa)           float64\n",
       "Relative humidity (%)              float64\n",
       "Rain intensity (mm/h)              float64\n",
       "Air temperature (degC)             float64\n",
       "Wind direction (deg)               float64\n",
       "Wind speed (m/s)                   float64\n",
       "Timestamp                   datetime64[ns]\n",
       "dtype: object"
      ]
     },
     "execution_count": 31,
     "metadata": {},
     "output_type": "execute_result"
    }
   ],
   "source": [
    "weather.dtypes"
   ]
  },
  {
   "cell_type": "code",
   "execution_count": 40,
   "metadata": {},
   "outputs": [
    {
     "data": {
      "text/html": [
       "<div>\n",
       "<style scoped>\n",
       "    .dataframe tbody tr th:only-of-type {\n",
       "        vertical-align: middle;\n",
       "    }\n",
       "\n",
       "    .dataframe tbody tr th {\n",
       "        vertical-align: top;\n",
       "    }\n",
       "\n",
       "    .dataframe thead th {\n",
       "        text-align: right;\n",
       "    }\n",
       "</style>\n",
       "<table border=\"1\" class=\"dataframe\">\n",
       "  <thead>\n",
       "    <tr style=\"text-align: right;\">\n",
       "      <th></th>\n",
       "      <th>Timestamp</th>\n",
       "      <th>Mannerheimintie</th>\n",
       "      <th>Air pressure (msl) (hPa)</th>\n",
       "      <th>Relative humidity (%)</th>\n",
       "      <th>Rain intensity (mm/h)</th>\n",
       "      <th>Air temperature (degC)</th>\n",
       "      <th>Wind direction (deg)</th>\n",
       "      <th>Wind speed (m/s)</th>\n",
       "    </tr>\n",
       "  </thead>\n",
       "  <tbody>\n",
       "    <tr>\n",
       "      <th>0</th>\n",
       "      <td>2014-01-01 01:00:00</td>\n",
       "      <td>78.0</td>\n",
       "      <td>1016.8</td>\n",
       "      <td>89.0</td>\n",
       "      <td>0.0</td>\n",
       "      <td>5.1</td>\n",
       "      <td>253.0</td>\n",
       "      <td>4.9</td>\n",
       "    </tr>\n",
       "    <tr>\n",
       "      <th>1</th>\n",
       "      <td>2014-01-01 02:00:00</td>\n",
       "      <td>68.0</td>\n",
       "      <td>1016.8</td>\n",
       "      <td>87.0</td>\n",
       "      <td>0.0</td>\n",
       "      <td>5.1</td>\n",
       "      <td>255.0</td>\n",
       "      <td>5.6</td>\n",
       "    </tr>\n",
       "    <tr>\n",
       "      <th>2</th>\n",
       "      <td>2014-01-01 03:00:00</td>\n",
       "      <td>60.0</td>\n",
       "      <td>1016.9</td>\n",
       "      <td>85.0</td>\n",
       "      <td>0.0</td>\n",
       "      <td>5.2</td>\n",
       "      <td>246.0</td>\n",
       "      <td>5.3</td>\n",
       "    </tr>\n",
       "    <tr>\n",
       "      <th>3</th>\n",
       "      <td>2014-01-01 04:00:00</td>\n",
       "      <td>48.0</td>\n",
       "      <td>1016.9</td>\n",
       "      <td>86.0</td>\n",
       "      <td>0.0</td>\n",
       "      <td>5.2</td>\n",
       "      <td>254.0</td>\n",
       "      <td>5.7</td>\n",
       "    </tr>\n",
       "    <tr>\n",
       "      <th>4</th>\n",
       "      <td>2014-01-01 05:00:00</td>\n",
       "      <td>51.0</td>\n",
       "      <td>1017.1</td>\n",
       "      <td>89.0</td>\n",
       "      <td>0.0</td>\n",
       "      <td>5.1</td>\n",
       "      <td>249.0</td>\n",
       "      <td>4.3</td>\n",
       "    </tr>\n",
       "  </tbody>\n",
       "</table>\n",
       "</div>"
      ],
      "text/plain": [
       "            Timestamp  Mannerheimintie  Air pressure (msl) (hPa)  \\\n",
       "0 2014-01-01 01:00:00             78.0                    1016.8   \n",
       "1 2014-01-01 02:00:00             68.0                    1016.8   \n",
       "2 2014-01-01 03:00:00             60.0                    1016.9   \n",
       "3 2014-01-01 04:00:00             48.0                    1016.9   \n",
       "4 2014-01-01 05:00:00             51.0                    1017.1   \n",
       "\n",
       "   Relative humidity (%)  Rain intensity (mm/h)  Air temperature (degC)  \\\n",
       "0                   89.0                    0.0                     5.1   \n",
       "1                   87.0                    0.0                     5.1   \n",
       "2                   85.0                    0.0                     5.2   \n",
       "3                   86.0                    0.0                     5.2   \n",
       "4                   89.0                    0.0                     5.1   \n",
       "\n",
       "   Wind direction (deg)  Wind speed (m/s)  \n",
       "0                 253.0               4.9  \n",
       "1                 255.0               5.6  \n",
       "2                 246.0               5.3  \n",
       "3                 254.0               5.7  \n",
       "4                 249.0               4.3  "
      ]
     },
     "execution_count": 40,
     "metadata": {},
     "output_type": "execute_result"
    }
   ],
   "source": [
    "data = pd.merge_asof(df, weather, on=\"Timestamp\")\n",
    "data.head()"
   ]
  },
  {
   "cell_type": "code",
   "execution_count": 41,
   "metadata": {},
   "outputs": [
    {
     "data": {
      "text/plain": [
       "Timestamp                   datetime64[ns]\n",
       "Mannerheimintie                    float64\n",
       "Air pressure (msl) (hPa)           float64\n",
       "Relative humidity (%)              float64\n",
       "Rain intensity (mm/h)              float64\n",
       "Air temperature (degC)             float64\n",
       "Wind direction (deg)               float64\n",
       "Wind speed (m/s)                   float64\n",
       "dtype: object"
      ]
     },
     "execution_count": 41,
     "metadata": {},
     "output_type": "execute_result"
    }
   ],
   "source": [
    "data.dtypes"
   ]
  },
  {
   "cell_type": "code",
   "execution_count": 46,
   "metadata": {},
   "outputs": [],
   "source": [
    "data.to_parquet(\"data/air-quality-idx.parquet.gzip\", compression=\"gzip\")"
   ]
  },
  {
   "cell_type": "code",
   "execution_count": null,
   "metadata": {},
   "outputs": [],
   "source": []
  }
 ],
 "metadata": {
  "kernelspec": {
   "display_name": "Python 3",
   "language": "python",
   "name": "python3"
  },
  "language_info": {
   "codemirror_mode": {
    "name": "ipython",
    "version": 3
   },
   "file_extension": ".py",
   "mimetype": "text/x-python",
   "name": "python",
   "nbconvert_exporter": "python",
   "pygments_lexer": "ipython3",
   "version": "3.7.3"
  }
 },
 "nbformat": 4,
 "nbformat_minor": 2
}
